{
 "cells": [
  {
   "cell_type": "code",
   "execution_count": 1,
   "metadata": {},
   "outputs": [],
   "source": [
    "#Kep2Car"
   ]
  },
  {
   "cell_type": "code",
   "execution_count": 2,
   "metadata": {},
   "outputs": [],
   "source": [
    "import numpy as np\n",
    "import pandas as pd\n",
    "#import vpython as vp\n",
    "#from vpython import *\n",
    "#Not using VPython here as it is a pain for the matrix multiplication\n",
    "### TODO - correct the rest of the code so that it no longer uses vpython/ is consistent in the packages it uses\n",
    "GM = 398600.4415 #km^3 s^-2"
   ]
  },
  {
   "cell_type": "code",
   "execution_count": 4,
   "metadata": {},
   "outputs": [
    {
     "name": "stdout",
     "output_type": "stream",
     "text": [
      "semi-major axis:7719.637186\n",
      "eccentricity:0.000493\n",
      "inclination:1.152689\n",
      "argument of perigee:1.161349\n",
      "RAAN:3.167019\n",
      "True Anomaly:5.501897\n",
      "\n",
      "Specified Orbit Geometry:\n"
     ]
    },
    {
     "data": {
      "text/html": [
       "<div>\n",
       "<style scoped>\n",
       "    .dataframe tbody tr th:only-of-type {\n",
       "        vertical-align: middle;\n",
       "    }\n",
       "\n",
       "    .dataframe tbody tr th {\n",
       "        vertical-align: top;\n",
       "    }\n",
       "\n",
       "    .dataframe thead th {\n",
       "        text-align: right;\n",
       "    }\n",
       "</style>\n",
       "<table border=\"1\" class=\"dataframe\">\n",
       "  <thead>\n",
       "    <tr style=\"text-align: right;\">\n",
       "      <th></th>\n",
       "      <th>Orbital Parameter</th>\n",
       "      <th>Keplerian</th>\n",
       "    </tr>\n",
       "  </thead>\n",
       "  <tbody>\n",
       "    <tr>\n",
       "      <th>0</th>\n",
       "      <td>semi-major axis - a</td>\n",
       "      <td>7719.637186</td>\n",
       "    </tr>\n",
       "    <tr>\n",
       "      <th>1</th>\n",
       "      <td>eccentricity - e</td>\n",
       "      <td>0.000493</td>\n",
       "    </tr>\n",
       "    <tr>\n",
       "      <th>2</th>\n",
       "      <td>inclination - i</td>\n",
       "      <td>1.152689</td>\n",
       "    </tr>\n",
       "    <tr>\n",
       "      <th>3</th>\n",
       "      <td>argument of perigee - w</td>\n",
       "      <td>1.161349</td>\n",
       "    </tr>\n",
       "    <tr>\n",
       "      <th>4</th>\n",
       "      <td>RAAN - W</td>\n",
       "      <td>3.167019</td>\n",
       "    </tr>\n",
       "    <tr>\n",
       "      <th>5</th>\n",
       "      <td>TRAN - V</td>\n",
       "      <td>5.501897</td>\n",
       "    </tr>\n",
       "  </tbody>\n",
       "</table>\n",
       "</div>"
      ],
      "text/plain": [
       "         Orbital Parameter    Keplerian\n",
       "0      semi-major axis - a  7719.637186\n",
       "1         eccentricity - e     0.000493\n",
       "2          inclination - i     1.152689\n",
       "3  argument of perigee - w     1.161349\n",
       "4                 RAAN - W     3.167019\n",
       "5                 TRAN - V     5.501897"
      ]
     },
     "execution_count": 4,
     "metadata": {},
     "output_type": "execute_result"
    }
   ],
   "source": [
    "a= float(input('semi-major axis:')) #in km\n",
    "e= float(input('eccentricity:')) #in km\n",
    "i= float(input('inclination:')) #in km\n",
    "w= float(input('argument of perigee:')) #in km/s\n",
    "W= float(input('RAAN:')) #in km/s\n",
    "V= float(input('True Anomaly:')) #in km/s\n",
    "\n",
    "Specified_Orbit_Geometry = pd.DataFrame ({\"Orbital Parameter\":[\"semi-major axis - a\",\"eccentricity - e\",\"inclination - i\",\"argument of perigee - w\",\"RAAN - W\",\"TRAN - V\"],\n",
    "                                          \"Keplerian\": [a,e,i,w,W,V]})\n",
    "print ('\\nSpecified Orbit Geometry:')\n",
    "Specified_Orbit_Geometry"
   ]
  },
  {
   "cell_type": "code",
   "execution_count": 26,
   "metadata": {},
   "outputs": [
    {
     "name": "stdout",
     "output_type": "stream",
     "text": [
      "unit vector P:\n",
      " [[-0.3885042 ]\n",
      " [-0.38247018]\n",
      " [ 0.83832037]]\n",
      "unit vector Q:\n",
      " [[ 0.921154  ]\n",
      " [-0.13826777]\n",
      " [ 0.36380948]]\n"
     ]
    }
   ],
   "source": [
    "#Compute the in-orbital plane Gaussian Vectors\n",
    "#This gives P and Q in ECI components\n",
    "\n",
    "P = np.matrix([[np.cos(W)*np.cos(w)-np.sin(W)*np.cos(i)* np.sin(w)],\n",
    "              [np.sin(W)*np.cos(w)+np.cos(W)*np.cos(i)* np.sin(w)],\n",
    "              [np.sin(i)*np.sin(w)]]) #Correct Z-coordinate\n",
    "\n",
    "Q = np.matrix([[-np.cos(W)*np.sin(w)-np.sin(W)*np.cos(i)*np.cos(w)],\n",
    "              [-np.sin(W)*np.sin(w)+ np.cos(W)*np.cos(i)* np.cos(w)],\n",
    "              [np.sin(i)*np.cos(w)]]) #Correct Z-coordinate\n",
    "\n",
    "print('unit vector P:\\n',P)\n",
    "print('unit vector Q:\\n',Q)"
   ]
  },
  {
   "cell_type": "code",
   "execution_count": 27,
   "metadata": {},
   "outputs": [
    {
     "name": "stdout",
     "output_type": "stream",
     "text": [
      "The semi-latus rectum is: 7719.635309749901\n",
      "The radial distance is: 7716.93412501557\n"
     ]
    }
   ],
   "source": [
    "#Compute the semi-latus rectum and the radial distance\n",
    "\n",
    "p = a*(1-(e**2))\n",
    "r = p/(1+e*np.cos(V))\n",
    "\n",
    "print('The semi-latus rectum is:',p)\n",
    "print('The radial distance is:',r)\n",
    "#STEP OK"
   ]
  },
  {
   "cell_type": "code",
   "execution_count": 28,
   "metadata": {},
   "outputs": [
    {
     "name": "stdout",
     "output_type": "stream",
     "text": [
      "5479.076540226578\n",
      "-5434.224190826928\n"
     ]
    }
   ],
   "source": [
    "# x and y are the coordinates of the satellite in the orbital basis \n",
    "x = r*np.cos(V)\n",
    "y = r*np.sin(V)\n",
    "print(x)\n",
    "print(y)\n",
    "\n",
    "#SEEMS REASONABLE"
   ]
  },
  {
   "cell_type": "code",
   "execution_count": 29,
   "metadata": {},
   "outputs": [
    {
     "name": "stdout",
     "output_type": "stream",
     "text": [
      "x-coordinate: -7134.4015980671975\n",
      "y-coordinate: -1344.2053503962836\n",
      "z-coordinate: 2616.199171181745\n"
     ]
    }
   ],
   "source": [
    "# We know the inertial vector components along the P and Q vectors. \n",
    "#Thus we can project the satellite position onto the ECI basis.\n",
    "#X_bar is the state vector representing the instantaneous *position* of the satellite\n",
    "\n",
    "cart_pos_x = (x*P.item(0)) + (y*Q.item(0))\n",
    "cart_pos_y = (x*P.item(1)) + (y*Q.item(1))\n",
    "cart_pos_z = (x*P.item(2)) + (y*Q.item(2))\n",
    "\n",
    "print('x-coordinate:',cart_pos_x)\n",
    "print('y-coordinate:',cart_pos_y)\n",
    "print('z-coordinate:',cart_pos_z)\n",
    "#Correct values of xyz :)"
   ]
  },
  {
   "cell_type": "code",
   "execution_count": 30,
   "metadata": {},
   "outputs": [],
   "source": [
    "#For the velocity components of the state vector we require cosE,sinE,f and g as defined below"
   ]
  },
  {
   "cell_type": "code",
   "execution_count": 31,
   "metadata": {},
   "outputs": [],
   "source": [
    "cos_E = ((x/a) + e)\n",
    "sin_E = (y/a*np.sqrt(1-e**2))"
   ]
  },
  {
   "cell_type": "code",
   "execution_count": 32,
   "metadata": {},
   "outputs": [],
   "source": [
    "f = (np.sqrt(a*GM))/r\n",
    "g = np.sqrt(1-e**2)"
   ]
  },
  {
   "cell_type": "code",
   "execution_count": 33,
   "metadata": {},
   "outputs": [
    {
     "name": "stdout",
     "output_type": "stream",
     "text": [
      "u-coordinate: 2.7370225687820864\n",
      "v-coordinate: -2.6412753868728953\n",
      "w-coordinate: 6.099437705233797\n"
     ]
    }
   ],
   "source": [
    "cart_vel_x = (-f*sin_E*P.item(0)) + (f*g*cos_E*Q.item(0))  #x component of velocity - aka 'u'\n",
    "cart_vel_y = (-f*sin_E*P.item(1)) + (f*g*cos_E*Q.item(1))  #y component of velocity - aka 'v'\n",
    "cart_vel_z = (-f*sin_E*P.item(2)) + (f*g*cos_E*Q.item(2)) #z component of velocity - aka 'w'\n",
    "\n",
    "print('u-coordinate:',cart_vel_x)\n",
    "print('v-coordinate:',cart_vel_y)\n",
    "print('w-coordinate:',cart_vel_z)"
   ]
  },
  {
   "cell_type": "code",
   "execution_count": 34,
   "metadata": {},
   "outputs": [
    {
     "data": {
      "text/html": [
       "<div>\n",
       "<style scoped>\n",
       "    .dataframe tbody tr th:only-of-type {\n",
       "        vertical-align: middle;\n",
       "    }\n",
       "\n",
       "    .dataframe tbody tr th {\n",
       "        vertical-align: top;\n",
       "    }\n",
       "\n",
       "    .dataframe thead th {\n",
       "        text-align: right;\n",
       "    }\n",
       "</style>\n",
       "<table border=\"1\" class=\"dataframe\">\n",
       "  <thead>\n",
       "    <tr style=\"text-align: right;\">\n",
       "      <th></th>\n",
       "      <th>Orbital Parameter</th>\n",
       "      <th>Keplerian</th>\n",
       "      <th>Converted Cartesian</th>\n",
       "    </tr>\n",
       "  </thead>\n",
       "  <tbody>\n",
       "    <tr>\n",
       "      <th>0</th>\n",
       "      <td>semi-major axis</td>\n",
       "      <td>7719.637186</td>\n",
       "      <td>-7134.401598</td>\n",
       "    </tr>\n",
       "    <tr>\n",
       "      <th>1</th>\n",
       "      <td>eccentricity</td>\n",
       "      <td>0.000493</td>\n",
       "      <td>-1344.205350</td>\n",
       "    </tr>\n",
       "    <tr>\n",
       "      <th>2</th>\n",
       "      <td>inclination</td>\n",
       "      <td>1.152689</td>\n",
       "      <td>2616.199171</td>\n",
       "    </tr>\n",
       "    <tr>\n",
       "      <th>3</th>\n",
       "      <td>argument of perigee</td>\n",
       "      <td>1.161349</td>\n",
       "      <td>2.737023</td>\n",
       "    </tr>\n",
       "    <tr>\n",
       "      <th>4</th>\n",
       "      <td>RAAN</td>\n",
       "      <td>3.167019</td>\n",
       "      <td>-2.641275</td>\n",
       "    </tr>\n",
       "    <tr>\n",
       "      <th>5</th>\n",
       "      <td>TRAN</td>\n",
       "      <td>5.501897</td>\n",
       "      <td>6.099438</td>\n",
       "    </tr>\n",
       "  </tbody>\n",
       "</table>\n",
       "</div>"
      ],
      "text/plain": [
       "     Orbital Parameter    Keplerian  Converted Cartesian\n",
       "0      semi-major axis  7719.637186         -7134.401598\n",
       "1         eccentricity     0.000493         -1344.205350\n",
       "2          inclination     1.152689          2616.199171\n",
       "3  argument of perigee     1.161349             2.737023\n",
       "4                 RAAN     3.167019            -2.641275\n",
       "5                 TRAN     5.501897             6.099438"
      ]
     },
     "execution_count": 34,
     "metadata": {},
     "output_type": "execute_result"
    }
   ],
   "source": [
    "Kep2Car = pd.DataFrame ({\"Orbital Parameter\":[\"semi-major axis\",\"eccentricity\",\"inclination\",\"argument of perigee\",\"RAAN\",\"TRAN\"],\n",
    "                                    \"Keplerian\": [a,e,i,w,W,V],\"Converted Cartesian\":[cart_pos_x,cart_pos_y,cart_pos_z,cart_vel_x,cart_vel_y,cart_vel_z],\n",
    "                                   })\n",
    "Kep2Car"
   ]
  },
  {
   "cell_type": "code",
   "execution_count": null,
   "metadata": {},
   "outputs": [],
   "source": []
  }
 ],
 "metadata": {
  "kernelspec": {
   "display_name": "Python 3",
   "language": "python",
   "name": "python3"
  },
  "language_info": {
   "codemirror_mode": {
    "name": "ipython",
    "version": 3
   },
   "file_extension": ".py",
   "mimetype": "text/x-python",
   "name": "python",
   "nbconvert_exporter": "python",
   "pygments_lexer": "ipython3",
   "version": "3.7.6"
  }
 },
 "nbformat": 4,
 "nbformat_minor": 4
}
