{
 "cells": [
  {
   "cell_type": "code",
   "execution_count": 1,
   "metadata": {},
   "outputs": [
    {
     "data": {
      "text/html": [
       "<div id=\"glowscript\" class=\"glowscript\"></div>"
      ],
      "text/plain": [
       "<IPython.core.display.HTML object>"
      ]
     },
     "metadata": {},
     "output_type": "display_data"
    },
    {
     "data": {
      "application/javascript": [
       "if (typeof Jupyter !== \"undefined\") { window.__context = { glowscript_container: $(\"#glowscript\").removeAttr(\"id\")};}else{ element.textContent = ' ';}"
      ],
      "text/plain": [
       "<IPython.core.display.Javascript object>"
      ]
     },
     "metadata": {},
     "output_type": "display_data"
    }
   ],
   "source": [
    "import numpy as np\n",
    "import pandas as pd\n",
    "import matplotlib as plt\n",
    "import math\n",
    "import vpython as vp\n",
    "from vpython import *"
   ]
  },
  {
   "cell_type": "code",
   "execution_count": 34,
   "metadata": {},
   "outputs": [],
   "source": [
    "#h=specific angular momentum, independent of mass\n",
    "#n=node vector\n",
    "#e=eccentricity or Lenz vector\n",
    "#r=position vector\n",
    "#v=velocity vector\n",
    "#k=unit vector parallel to ECI Z-axis\n",
    "#double mod_h,mod_e; //magnitude of associated vectors\n",
    "#double mod_v,mod_r,mod_n; //magnitude of associated vectors\n",
    "#double b1,b2; //terms used in calculation of Lenz vector\n",
    "#double E; //specific mechanical energy\n",
    "#double p; //semi-latus rectum, removed from this version\n",
    "GM = 398600.4415 #km^3 s^-2"
   ]
  },
  {
   "cell_type": "code",
   "execution_count": 3,
   "metadata": {},
   "outputs": [],
   "source": [
    "r = vector(0,0,0)\n",
    "v = vector(0,0,0)"
   ]
  },
  {
   "cell_type": "code",
   "execution_count": 4,
   "metadata": {},
   "outputs": [
    {
     "name": "stdout",
     "output_type": "stream",
     "text": [
      "x:-7134.398648809276129 \n",
      "y:-1344.209105925399003 \n",
      "z:2616.198919025931575 \n",
      "\n",
      "u:2.737026697769760242 \n",
      "v:-2.641277223887037396 \n",
      "w:6.099438445144469672 \n",
      "\n",
      "specified vector r: <-7134.4, -1344.21, 2616.2>\n",
      "specified vector v: <2.73703, -2.64128, 6.09944>\n"
     ]
    }
   ],
   "source": [
    "r.x= float(input('x:')) #in km\n",
    "r.y= float(input('y:')) #in km\n",
    "r.z= float(input('z:')) #in km\n",
    "v.x= float(input('\\nu:')) #in km/s\n",
    "v.y= float(input('v:')) #in km/s\n",
    "v.z= float(input('w:')) #in km/s\n",
    "\n",
    "print ('\\nspecified vector r:',r)\n",
    "print ('specified vector v:',v)"
   ]
  },
  {
   "cell_type": "code",
   "execution_count": 42,
   "metadata": {},
   "outputs": [
    {
     "name": "stdout",
     "output_type": "stream",
     "text": [
      "Value of the vector h:\n",
      "<-1288.81, 50676.4, 22523.1>\n",
      "Magnitude of the vector h:\n",
      "55471.16405275042\n"
     ]
    }
   ],
   "source": [
    "#Compute the specific angular momentum\n",
    "h = cross(r,v)\n",
    "print(\"Value of the vector h:\")\n",
    "print (h)\n",
    "print(\"Magnitude of the vector h:\")\n",
    "print(mag(h))"
   ]
  },
  {
   "cell_type": "code",
   "execution_count": 58,
   "metadata": {},
   "outputs": [
    {
     "name": "stdout",
     "output_type": "stream",
     "text": [
      "Value of the vector n:\n",
      "<-50676.4, -1288.81, 0>\n",
      "Magnitude of the vector n:\n",
      "50692.81774102259\n"
     ]
    }
   ],
   "source": [
    "#compute the node vector\n",
    "#Vector pointing towards the ascending node\n",
    "n = cross(k,h)\n",
    "print(\"Value of the vector n:\")\n",
    "print(n)\n",
    "\n",
    "print(\"Magnitude of the vector n:\")\n",
    "print (mag(n))"
   ]
  },
  {
   "cell_type": "code",
   "execution_count": 59,
   "metadata": {},
   "outputs": [
    {
     "name": "stdout",
     "output_type": "stream",
     "text": [
      "specified vector k: <0, 0, 1>\n"
     ]
    }
   ],
   "source": [
    "#populate the unit vector parallel to the ECI Z-axis\n",
    "#The 0 on each axis is defined as the centre of mass of the earth for an ECI reference frame\n",
    "\n",
    "k = vector(0.0,0.0,1.0)\n",
    "print ('specified vector k:',k)"
   ]
  },
  {
   "cell_type": "code",
   "execution_count": 60,
   "metadata": {},
   "outputs": [
    {
     "name": "stdout",
     "output_type": "stream",
     "text": [
      "The specific mechanical energy is: -25.81730409811604\n"
     ]
    }
   ],
   "source": [
    "#Compute the specific mechanical energy\n",
    "E = (mag(v)**2)/2 - (GM/mag(r))\n",
    "\n",
    "print ('The specific mechanical energy is:',E) #MJ/Kg or km^-2 s^-2"
   ]
  },
  {
   "cell_type": "code",
   "execution_count": 61,
   "metadata": {},
   "outputs": [
    {
     "name": "stdout",
     "output_type": "stream",
     "text": [
      "The semi-major axis is: 7719.63718568677\n"
     ]
    }
   ],
   "source": [
    "a = (-GM)/(2*E)\n",
    "print ('The semi-major axis is:', a)"
   ]
  },
  {
   "cell_type": "code",
   "execution_count": 62,
   "metadata": {},
   "outputs": [
    {
     "name": "stdout",
     "output_type": "stream",
     "text": [
      "The semi-latus rectum is: 7719.635306442956\n"
     ]
    }
   ],
   "source": [
    "p = (mag(h)**2/GM)\n",
    "print ('The semi-latus rectum is:', p)"
   ]
  },
  {
   "cell_type": "code",
   "execution_count": 70,
   "metadata": {},
   "outputs": [
    {
     "name": "stdout",
     "output_type": "stream",
     "text": [
      "<-0.000191685, -0.000188708, 0.000413621>\n",
      "0.0004933931548962204\n"
     ]
    }
   ],
   "source": [
    "e_vec = vector(0,0,0)\n",
    "\n",
    "b1 = mag(v)**2 - (GM/mag(r));\n",
    "b2 = dot(r,v);\n",
    "\n",
    "e_vec.x = (b1*r.x-b2*v.x)/GM;\n",
    "e_vec.y = (b1*r.y-b2*v.y)/GM;\n",
    "e_vec.z = (b1*r.z-b2*v.z)/GM;\n",
    "\n",
    "print (e_vec)\n",
    "print (mag(e_vec))\n"
   ]
  },
  {
   "cell_type": "code",
   "execution_count": 63,
   "metadata": {},
   "outputs": [
    {
     "name": "stdout",
     "output_type": "stream",
     "text": [
      "The inclination in radians is: 1.1526886363084652\n"
     ]
    }
   ],
   "source": [
    "#Compute inclination\n",
    "i = np.arccos(h.z/mag(h))\n",
    "\n",
    "print ('The inclination in radians is:',i)\n"
   ]
  },
  {
   "cell_type": "code",
   "execution_count": 64,
   "metadata": {},
   "outputs": [
    {
     "name": "stdout",
     "output_type": "stream",
     "text": [
      "the right ascension of the ascending node in radians is: 3.167019390999959\n"
     ]
    }
   ],
   "source": [
    "#Compute the right ascension of the ascending node - W\n",
    "\n",
    "W = np.arccos(n.x/mag(n))\n",
    "if n.y<0: \n",
    "    W = 2*np.pi - W\n",
    "else: \n",
    "    W = W\n",
    "    \n",
    "print ('the right ascension of the ascending node in radians is:', W)\n"
   ]
  },
  {
   "cell_type": "code",
   "execution_count": 73,
   "metadata": {},
   "outputs": [
    {
     "name": "stdout",
     "output_type": "stream",
     "text": [
      "the argument of perigee is: 1.1613486671945021\n"
     ]
    }
   ],
   "source": [
    "#Compute the argument of perigee\n",
    "w = np.arccos(dot(n,e_vec)/(mag(n)*mag(e_vec)))\n",
    "\n",
    "if e_vec.z < 0.0:\n",
    "    w = 2*np.pi - w\n",
    "else:\n",
    "    w = w\n",
    "\n",
    "print ('the argument of perigee is:', w)\n"
   ]
  },
  {
   "cell_type": "code",
   "execution_count": 76,
   "metadata": {},
   "outputs": [
    {
     "name": "stdout",
     "output_type": "stream",
     "text": [
      "<0, 0, 0>\n",
      "0.7812878366146722\n",
      "the true anomaly in radians is: 5.501897470564914\n"
     ]
    }
   ],
   "source": [
    "#Compute the true anomaly\n",
    "\n",
    "V = vector (0.0,0.0,0.0)\n",
    "print(V)\n",
    "\n",
    "V = np.arccos(dot(e_vec,r)/(mag(e_vec)*mag(r)))\n",
    "\n",
    "print (V)\n",
    "\n",
    "if dot(r,v) < 0:\n",
    "    V = 2*np.pi - V\n",
    "else: V = V\n",
    "    \n",
    "print ('the true anomaly in radians is:', V)"
   ]
  },
  {
   "cell_type": "code",
   "execution_count": 78,
   "metadata": {},
   "outputs": [
    {
     "name": "stdout",
     "output_type": "stream",
     "text": [
      "Table of results:\n"
     ]
    },
    {
     "data": {
      "text/html": [
       "<div>\n",
       "<style scoped>\n",
       "    .dataframe tbody tr th:only-of-type {\n",
       "        vertical-align: middle;\n",
       "    }\n",
       "\n",
       "    .dataframe tbody tr th {\n",
       "        vertical-align: top;\n",
       "    }\n",
       "\n",
       "    .dataframe thead th {\n",
       "        text-align: right;\n",
       "    }\n",
       "</style>\n",
       "<table border=\"1\" class=\"dataframe\">\n",
       "  <thead>\n",
       "    <tr style=\"text-align: right;\">\n",
       "      <th></th>\n",
       "      <th>Orbital Parameter</th>\n",
       "      <th>Cartesian</th>\n",
       "      <th>Keplerian</th>\n",
       "    </tr>\n",
       "  </thead>\n",
       "  <tbody>\n",
       "    <tr>\n",
       "      <th>0</th>\n",
       "      <td>semi-major axis</td>\n",
       "      <td>-7134.398649</td>\n",
       "      <td>7719.637186</td>\n",
       "    </tr>\n",
       "    <tr>\n",
       "      <th>1</th>\n",
       "      <td>eccentricity</td>\n",
       "      <td>-1344.209106</td>\n",
       "      <td>0.000493</td>\n",
       "    </tr>\n",
       "    <tr>\n",
       "      <th>2</th>\n",
       "      <td>inclination</td>\n",
       "      <td>2616.198919</td>\n",
       "      <td>1.152689</td>\n",
       "    </tr>\n",
       "    <tr>\n",
       "      <th>3</th>\n",
       "      <td>argument of perigee</td>\n",
       "      <td>2.737027</td>\n",
       "      <td>1.161349</td>\n",
       "    </tr>\n",
       "    <tr>\n",
       "      <th>4</th>\n",
       "      <td>RAAN</td>\n",
       "      <td>-2.641277</td>\n",
       "      <td>3.167019</td>\n",
       "    </tr>\n",
       "    <tr>\n",
       "      <th>5</th>\n",
       "      <td>TRAN</td>\n",
       "      <td>6.099438</td>\n",
       "      <td>5.501897</td>\n",
       "    </tr>\n",
       "  </tbody>\n",
       "</table>\n",
       "</div>"
      ],
      "text/plain": [
       "     Orbital Parameter    Cartesian    Keplerian\n",
       "0      semi-major axis -7134.398649  7719.637186\n",
       "1         eccentricity -1344.209106     0.000493\n",
       "2          inclination  2616.198919     1.152689\n",
       "3  argument of perigee     2.737027     1.161349\n",
       "4                 RAAN    -2.641277     3.167019\n",
       "5                 TRAN     6.099438     5.501897"
      ]
     },
     "execution_count": 78,
     "metadata": {},
     "output_type": "execute_result"
    }
   ],
   "source": [
    "Keplerian_Elements = pd.DataFrame ({\"Orbital Parameter\":[\"semi-major axis\",\"eccentricity\",\"inclination\",\"argument of perigee\",\"RAAN\",\"TRAN\"],\n",
    "                                    \"Cartesian\":[r.x,r.y,r.z,v.x,v.y,v.z],\n",
    "                                   \"Keplerian\": [a,e,i,w,W,V]})\n",
    "\n",
    "print ('Table of results:')\n",
    "Keplerian_Elements"
   ]
  },
  {
   "cell_type": "code",
   "execution_count": null,
   "metadata": {},
   "outputs": [],
   "source": []
  }
 ],
 "metadata": {
  "kernelspec": {
   "display_name": "Python 3",
   "language": "python",
   "name": "python3"
  },
  "language_info": {
   "codemirror_mode": {
    "name": "ipython",
    "version": 3
   },
   "file_extension": ".py",
   "mimetype": "text/x-python",
   "name": "python",
   "nbconvert_exporter": "python",
   "pygments_lexer": "ipython3",
   "version": "3.7.6"
  }
 },
 "nbformat": 4,
 "nbformat_minor": 4
}
