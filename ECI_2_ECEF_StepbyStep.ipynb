{
 "cells": [
  {
   "cell_type": "code",
   "execution_count": 5,
   "metadata": {},
   "outputs": [],
   "source": [
    "import numpy as np\n",
    "import pandas as pd\n",
    "import matplotlib as plt\n",
    "import math"
   ]
  },
  {
   "cell_type": "code",
   "execution_count": 6,
   "metadata": {},
   "outputs": [],
   "source": [
    "#Variables:\n",
    "\n",
    "#Rz - Rotation matrix through Z by angle O_GAST\n",
    "#R_dot_z - Newtonian notation for differential w.r.t time of R_z\n",
    "#w_cross = rotation rate of the earth in radians per second (2Pi radians/86400 seconds)\n",
    "#X_f = np.array([x_f,y_f,z_f]) #instantaneous position vector in planet fixed reference frame \n",
    "#v_f = np.array([u_f,v_f,w_f]) #Instantaneous velocity vector in the planet fixed reference frame \n",
    "#Re = Radius of the earth (avg between polar and equatorial)\n",
    "#OGAST = Greenwich Apparent Siderial Time\n",
    "\n",
    "#To Define in the function :\n",
    "#X_i = np.array([x_i,y_i,z_i]) #instantaneous position vector in inertial reference frame \n",
    "#v_i = np.array([u_i,v_i,w_i]) #Instantaneous velocity vector in the inertial reference frame \n",
    "GM = 398600.4415 #Km^3 s^-2\n",
    "Re = 6378.137 #Km\n",
    "w_cross = (2*(np.pi) / 86400) #Rad/Sec"
   ]
  },
  {
   "cell_type": "code",
   "execution_count": 8,
   "metadata": {},
   "outputs": [
    {
     "name": "stdout",
     "output_type": "stream",
     "text": [
      "x:-7134.401598\n",
      "y:-1344.205350\n",
      "z:2616.199171\n",
      "\n",
      "u:2.737023\n",
      "v:-2.641275\n",
      "w:6.099438\n",
      "days since J2000 *IN DECIMAL FORMAT*:69\n",
      "\n",
      "specified poisiton vector in inertial frame: [-7134.401598 -1344.20535   2616.199171]\n",
      "specified velocity vector in inertial frame: [ 2.737023 -2.641275  6.099438]\n"
     ]
    }
   ],
   "source": [
    "x_i= float(input('x:')) #in km\n",
    "y_i= float(input('y:')) #in km\n",
    "z_i= float(input('z:')) #in km\n",
    "u_i= float(input('\\nu:')) #in km/s\n",
    "v_i= float(input('v:')) #in km/s\n",
    "w_i= float(input('w:')) #in km/s\n",
    "d= float(input('days since J2000 *IN DECIMAL FORMAT*:')) #in days\n",
    "\n",
    "#Making the coordinates into the relevant vectors\n",
    "X_i = np.array([x_i,y_i,z_i])\n",
    "V_i = np.array([u_i,v_i,w_i])\n",
    "\n",
    "print ('\\nspecified poisiton vector in inertial frame:',X_i)\n",
    "print ('specified velocity vector in inertial frame:',V_i)\n",
    "\n",
    "OGAST = 280.4606+360.9856473662*d #in degrees - where d is days since J2000 epoch in decimal format"
   ]
  },
  {
   "cell_type": "code",
   "execution_count": 41,
   "metadata": {},
   "outputs": [
    {
     "name": "stdout",
     "output_type": "stream",
     "text": [
      "[[0.6824929890652967, -0.7308921397010073, 0], [0.7308921397010073, 0.6824929890652967, 0], [0, 0, 1]]\n"
     ]
    }
   ],
   "source": [
    "#Constructing a rotation matrix for position vectors\n",
    "R_z = [[np.cos(OGAST),  np.sin(OGAST),  0],\n",
    "      [-np.sin(OGAST), np.cos(OGAST),  0],\n",
    "      [0,              0,              1]]\n",
    "         \n",
    "print(R_z)"
   ]
  },
  {
   "cell_type": "code",
   "execution_count": 42,
   "metadata": {},
   "outputs": [
    {
     "name": "stdout",
     "output_type": "stream",
     "text": [
      "[[-5.31519763e-05 -4.96322908e-05  0.00000000e+00]\n",
      " [ 4.96322908e-05 -5.31519763e-05  0.00000000e+00]\n",
      " [ 0.00000000e+00  0.00000000e+00  7.27220522e-05]]\n"
     ]
    }
   ],
   "source": [
    "#Constructing a rotation matrix for velocity vectors\n",
    "mat_a = [[np.sin(OGAST),  -np.cos(OGAST),  0],\n",
    "            [np.cos(OGAST), np.sin(OGAST),   0],\n",
    "            [0,              0,              1]]\n",
    "\n",
    "R_dot_z = np.dot(w_cross,mat_a)\n",
    "print(R_dot_z)"
   ]
  },
  {
   "cell_type": "code",
   "execution_count": 43,
   "metadata": {},
   "outputs": [
    {
     "name": "stdout",
     "output_type": "stream",
     "text": [
      "[-5851.64819627  4297.06732221  2616.199171  ]\n"
     ]
    }
   ],
   "source": [
    "#Converted position coordinates from eci to ecef = multiply coordinates by rotation matrix\n",
    "\n",
    "X_f = np.dot(X_i,R_z)\n",
    "print(X_f)"
   ]
  },
  {
   "cell_type": "code",
   "execution_count": 44,
   "metadata": {},
   "outputs": [
    {
     "name": "stdout",
     "output_type": "stream",
     "text": [
      "[ 4.24440968 -0.0848326   6.28969337]\n"
     ]
    }
   ],
   "source": [
    "#The differenetial of Xf (i.e. v_f) = (R_dot_z *X_i) + (R_z *V_i) --Product rule\n",
    "\n",
    "V_f = (np.dot(R_dot_z, X_i)) + (np.dot(R_z, V_i))\n",
    "print(V_f)"
   ]
  },
  {
   "cell_type": "code",
   "execution_count": 46,
   "metadata": {},
   "outputs": [
    {
     "name": "stdout",
     "output_type": "stream",
     "text": [
      "Table of results:\n"
     ]
    },
    {
     "data": {
      "text/html": [
       "<div>\n",
       "<style scoped>\n",
       "    .dataframe tbody tr th:only-of-type {\n",
       "        vertical-align: middle;\n",
       "    }\n",
       "\n",
       "    .dataframe tbody tr th {\n",
       "        vertical-align: top;\n",
       "    }\n",
       "\n",
       "    .dataframe thead th {\n",
       "        text-align: right;\n",
       "    }\n",
       "</style>\n",
       "<table border=\"1\" class=\"dataframe\">\n",
       "  <thead>\n",
       "    <tr style=\"text-align: right;\">\n",
       "      <th></th>\n",
       "      <th>Coordinate</th>\n",
       "      <th>ECI</th>\n",
       "      <th>ECEF</th>\n",
       "    </tr>\n",
       "  </thead>\n",
       "  <tbody>\n",
       "    <tr>\n",
       "      <th>0</th>\n",
       "      <td>x</td>\n",
       "      <td>-7134.401598</td>\n",
       "      <td>-5851.648196</td>\n",
       "    </tr>\n",
       "    <tr>\n",
       "      <th>1</th>\n",
       "      <td>y</td>\n",
       "      <td>-1344.205350</td>\n",
       "      <td>4297.067322</td>\n",
       "    </tr>\n",
       "    <tr>\n",
       "      <th>2</th>\n",
       "      <td>z</td>\n",
       "      <td>2616.199171</td>\n",
       "      <td>2616.199171</td>\n",
       "    </tr>\n",
       "    <tr>\n",
       "      <th>3</th>\n",
       "      <td>u</td>\n",
       "      <td>2.737023</td>\n",
       "      <td>4.244410</td>\n",
       "    </tr>\n",
       "    <tr>\n",
       "      <th>4</th>\n",
       "      <td>v</td>\n",
       "      <td>-2.641275</td>\n",
       "      <td>-0.084833</td>\n",
       "    </tr>\n",
       "    <tr>\n",
       "      <th>5</th>\n",
       "      <td>w</td>\n",
       "      <td>6.099438</td>\n",
       "      <td>6.289693</td>\n",
       "    </tr>\n",
       "  </tbody>\n",
       "</table>\n",
       "</div>"
      ],
      "text/plain": [
       "  Coordinate          ECI         ECEF\n",
       "0          x -7134.401598 -5851.648196\n",
       "1          y -1344.205350  4297.067322\n",
       "2          z  2616.199171  2616.199171\n",
       "3          u     2.737023     4.244410\n",
       "4          v    -2.641275    -0.084833\n",
       "5          w     6.099438     6.289693"
      ]
     },
     "execution_count": 46,
     "metadata": {},
     "output_type": "execute_result"
    }
   ],
   "source": [
    "ECI_2_ECEF = pd.DataFrame ({\"Coordinate\":[\"x\",\"y\",\"z\",\"u\",\"v\",\"w\"], \n",
    "                            \"ECI\": [X_i[0],X_i[1],X_i[2],V_i[0],V_i[1],V_i[2]],\n",
    "                            \"ECEF\":[X_f[0],X_f[1],X_f[2],V_f[0],V_f[1],V_f[2]]})\n",
    "\n",
    "print ('Table of results:')\n",
    "ECI_2_ECEF"
   ]
  },
  {
   "cell_type": "code",
   "execution_count": null,
   "metadata": {},
   "outputs": [],
   "source": []
  },
  {
   "cell_type": "code",
   "execution_count": null,
   "metadata": {},
   "outputs": [],
   "source": []
  }
 ],
 "metadata": {
  "kernelspec": {
   "display_name": "Python 3",
   "language": "python",
   "name": "python3"
  },
  "language_info": {
   "codemirror_mode": {
    "name": "ipython",
    "version": 3
   },
   "file_extension": ".py",
   "mimetype": "text/x-python",
   "name": "python",
   "nbconvert_exporter": "python",
   "pygments_lexer": "ipython3",
   "version": "3.7.6"
  }
 },
 "nbformat": 4,
 "nbformat_minor": 4
}
