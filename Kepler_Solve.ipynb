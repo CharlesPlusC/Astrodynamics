{
 "cells": [
  {
   "cell_type": "code",
   "execution_count": 1,
   "metadata": {},
   "outputs": [],
   "source": [
    "import numpy as np\n",
    "import matplotlib.pyplot as plt\n",
    "\n",
    "#Newton-Raphson iterative method to find eccentric anomaly - 'E'\n",
    "\n",
    "#Relevant equations\n",
    "#Keplers equation:  M=E-e*sin*E\n",
    "#Newton-Raphson iteration:  Ei+1 = Ei -(Ei-e*sin*Ei-M)/(1-e*cos*Ei)\n",
    "#Equation we are trying to satisfy: E-e*sin*E-M=0"
   ]
  },
  {
   "cell_type": "code",
   "execution_count": null,
   "metadata": {},
   "outputs": [],
   "source": [
    "import math\n",
    "#imput mean anomaly and eccentricity \n",
    "M = float(input('What is the Mean Anomaly?: '))\n",
    "e = float(input('What is the Eccentricity?: '))\n",
    "\n",
    "#Minimal value approaching 0 (level of accuracy)\n",
    "min_val = 1E-7\n",
    "\n",
    "#Initial Guess at Eccentric Anomaly (taken these conditions from Fundamentals of Astrodynamics by Roger.E.Bate)\n",
    "if M < np.pi:\n",
    "    E = M + (e / 2)\n",
    "if M > np.pi:\n",
    "    E = M - (e / 2)\n",
    "    \n",
    "#Initial Conditions\n",
    "f = E - e*np.sin(E) - M\n",
    "f_prime = 1 - e*np.cos(E)\n",
    "ratio = f / f_prime\n",
    "\n",
    "#Numerical iteration for ratio compared to level of accuracy wanted\n",
    "\n",
    "iteration_array = []\n",
    "while abs(ratio) > min_val:\n",
    "    f = E - e*np.sin(E) - M\n",
    "    f_prime = 1 - e*np.cos(E)\n",
    "    ratio = f / f_prime\n",
    "    \n",
    "    iteration_array.append(1)\n",
    " \n",
    "    if abs(ratio) > min_val:\n",
    "         E = E - ratio\n",
    "    if abs(ratio) < min_val:\n",
    "        break\n",
    "\n",
    "    plt.scatter(ratio,E)\n",
    "    plt.ylabel('Iteration Value')\n",
    "    plt.xlabel('f/f_prime')\n",
    "    plt.title('Newton-Raphson Iteration Method')\n",
    "        \n",
    "       \n",
    "print('\\nCalculated Eccentric Anomaly:', E,'radians')\n",
    "print('Equivalent in Degrees:', E*180/np.pi,'°')\n",
    "print('\\nNumber of iterations undertaken:',(len(iteration_array)))"
   ]
  },
  {
   "cell_type": "code",
   "execution_count": null,
   "metadata": {},
   "outputs": [],
   "source": [
    "x =  a cos e\n",
    "y = a sqrt 1-e^2 sin E"
   ]
  },
  {
   "cell_type": "code",
   "execution_count": null,
   "metadata": {},
   "outputs": [],
   "source": []
  },
  {
   "cell_type": "code",
   "execution_count": null,
   "metadata": {},
   "outputs": [],
   "source": []
  },
  {
   "cell_type": "code",
   "execution_count": null,
   "metadata": {},
   "outputs": [],
   "source": []
  },
  {
   "cell_type": "code",
   "execution_count": null,
   "metadata": {},
   "outputs": [],
   "source": []
  }
 ],
 "metadata": {
  "kernelspec": {
   "display_name": "Python 3",
   "language": "python",
   "name": "python3"
  },
  "language_info": {
   "codemirror_mode": {
    "name": "ipython",
    "version": 3
   },
   "file_extension": ".py",
   "mimetype": "text/x-python",
   "name": "python",
   "nbconvert_exporter": "python",
   "pygments_lexer": "ipython3",
   "version": "3.7.6"
  }
 },
 "nbformat": 4,
 "nbformat_minor": 4
}
