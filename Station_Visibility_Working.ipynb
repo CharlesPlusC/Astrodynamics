{
 "cells": [
  {
   "cell_type": "code",
   "execution_count": 1,
   "metadata": {},
   "outputs": [],
   "source": [
    "################# STARTING STATION VISIBILITY ###########"
   ]
  },
  {
   "cell_type": "code",
   "execution_count": 2,
   "metadata": {},
   "outputs": [],
   "source": [
    "import numpy as np\n",
    "import pandas as pd\n",
    "import matplotlib.pyplot as plt\n",
    "import math\n",
    "GM = 398600.4415 #km^3 s^-2\n",
    "RE = 6367 #km - Radius of the Earth"
   ]
  },
  {
   "cell_type": "code",
   "execution_count": 3,
   "metadata": {},
   "outputs": [],
   "source": [
    "# Determination of  station-satellite visibility\n",
    "# A key element of mission desing and planning is to determine:\n",
    "#* When a satellite will appear above the horizon at a tracking station\n",
    "#* How long the pass will last#\n",
    "#* The azimuth and elevation of the satellite at any point in the pass\n",
    "#\n",
    "# The first problem to solve here is, given tracking station coordinates (Lambda_deg,Phi_deg) and the satellite ECEF position\n",
    "# whether or not the satellite is visible"
   ]
  },
  {
   "cell_type": "code",
   "execution_count": 4,
   "metadata": {},
   "outputs": [],
   "source": [
    "# Steps:\n",
    "\n",
    "# Given r_p and r_s(t) in ECEF components compute (Phi_deg,Lambda_deg) for P = f(r_p)\n",
    "# Calculate ECEF components of (e,n,u)\n",
    "\n",
    "# Calculate r_ss = r_s - r_p\n",
    "# Normalize r_ss -> unit_vector_r_ss  = r_ss/mag_r_ss\n",
    "\n",
    "# project r_ss onto e,n,u -> this gives unit_vector_rss in topocentric basis\n",
    "# r_ss_e = unit_vector_r_ss * e\n",
    "# r_ss_n = unit_vector_r_ss * n\n",
    "# r_ss_u = unit_vector_r_ss * u\n",
    "\n",
    "#Let elev = satellite elevation angle \n",
    "# elev = np.arcsin(r_ss_u/1)\n",
    "\n",
    "# Let alpha = azimuth (direction from the north)\n",
    "# alpha = math.atan2(r_ss_e, r_ss_n)\n",
    "\n",
    "# Let m_a = site mask angle \n",
    "# If m_a-elev > 0, the satellite is visible to ground station"
   ]
  },
  {
   "cell_type": "code",
   "execution_count": 5,
   "metadata": {},
   "outputs": [],
   "source": [
    "#r_p = tracking station position vector (ECEF) (from the centre of mass of the Earth)\n",
    "#r_s = satellite position vector (ECEF)\n",
    "#r_ss = station-satellite vector "
   ]
  },
  {
   "cell_type": "code",
   "execution_count": 6,
   "metadata": {},
   "outputs": [],
   "source": [
    "# A topocentric basis is defined by (Phi_deg,Lambda_deg)\n",
    "# Where Phi is Lat and Lambda is Long\n",
    "# and three orthogonal unit vectros e,n,u (east, north, up)\n",
    "\n",
    "# Phi_deg= float(input('Latitude of satellite:')) #in degrees\n",
    "# Lambda_deg= float(input('Longitude:')) #in degrees\n",
    "\n",
    "Phi_deg = 19.817211\n",
    "Lambda_deg = -100.670114"
   ]
  },
  {
   "cell_type": "code",
   "execution_count": 7,
   "metadata": {},
   "outputs": [
    {
     "name": "stdout",
     "output_type": "stream",
     "text": [
      "[0.13870047 0.99033438 0.        ]\n",
      "[0.18440234 1.11422787 0.56723227]\n",
      "[ 0.56174961 -0.07867538  0.82355786]\n"
     ]
    }
   ],
   "source": [
    "#If the radius of P is the ecef position vector:\n",
    "# u = unit vector of radius of P  = radius P vector/ magnitude of the vector P\n",
    "# e,n,u are functions of (Phi,Lambda)\n",
    "\n",
    "# Need to define the ECEF basis unit vectors i,j,k first\n",
    "\n",
    "i = np.array([1,0,0])\n",
    "j = np.array([0,1,0])\n",
    "k = np.array([0,0,1])\n",
    "\n",
    "#Defining the e,n,u vectors as defined in appendix 10\n",
    "\n",
    "e = (-np.sin(Lambda_deg*i)) + (np.cos(Lambda_deg)*j)\n",
    "\n",
    "    \n",
    "#Splitting n into smaller terms\n",
    "n_a = -np.cos(Lambda_deg)\n",
    "n_b = np.sin(Phi_deg)\n",
    "n_c = n_a*n_b\n",
    "\n",
    "n_d = -np.sin(Lambda_deg)\n",
    "n_e = np.sin(Phi_deg)\n",
    "n_f = n_d*n_e\n",
    "\n",
    "n = np.array(n_c*i) + (n_f*j) + (np.cos(Phi_deg*k))\n",
    "\n",
    "\n",
    "#Splitting u into smaller terms\n",
    "\n",
    "u_a = np.cos(Lambda_deg)\n",
    "u_b = np.cos(Phi_deg)\n",
    "u_c  = u_a*u_b\n",
    "\n",
    "u_d = np.sin(Lambda_deg)\n",
    "u_e = np.cos(Phi_deg)\n",
    "u_f = u_d*u_e\n",
    "\n",
    "u = (u_c*i) + (u_f*j) + (np.sin(Phi_deg)*k)\n",
    "\n",
    "# 3 unit vectors: east north up\n",
    "print(e)\n",
    "print(n)    \n",
    "print(u)  \n",
    "\n"
   ]
  },
  {
   "cell_type": "code",
   "execution_count": null,
   "metadata": {},
   "outputs": [],
   "source": []
  },
  {
   "cell_type": "code",
   "execution_count": 8,
   "metadata": {},
   "outputs": [
    {
     "name": "stdout",
     "output_type": "stream",
     "text": [
      "[-7134.40159807 -1344.2053504   2616.19917118]\n"
     ]
    }
   ],
   "source": [
    "#Defining r_s (needs to be part of forloop\n",
    "              # as this is updated with every new dt)\n",
    "\n",
    "# x_s= float(input('satellite vector x-coord.:')) #in degrees\n",
    "# y_s= float(input('satellite vector y-coord:')) #in degrees\n",
    "# z_s= float(input('satellite vector z-coord:')) #in degrees\n",
    "\n",
    "\n",
    "#Following coordinates taken from KEP2CAR\n",
    "x_s = -7134.4015980671975\n",
    "y_s = -1344.2053503962836\n",
    "z_s = 2616.199171181745\n",
    "\n",
    "r_s = np.array([x_s,y_s,z_s])\n",
    "print(r_s)"
   ]
  },
  {
   "cell_type": "code",
   "execution_count": 55,
   "metadata": {},
   "outputs": [
    {
     "name": "stdout",
     "output_type": "stream",
     "text": [
      "[ 958506.011 4556367.375 4344627.164]\n"
     ]
    }
   ],
   "source": [
    "#Defining r_p (static - does not change with each new dt)\n",
    "\n",
    "# x_p= float(input('station vector x-coord.:')) #in degrees\n",
    "# y_p= float(input('station vector y-coord:')) #in degrees\n",
    "# z_p= float(input('station vector z-coord:')) #in degrees\n",
    "\n",
    "\n",
    "#Following coordinates (made up)\n",
    "###GET A HOLD OF SOME ACTUAL ONES###\n",
    "x_p = 958506.011\n",
    "y_p = 4556367.375\n",
    "z_p = 4344627.164\n",
    "\n",
    "r_p = np.array([x_p,y_p,z_p])\n",
    "print(r_p)"
   ]
  },
  {
   "cell_type": "code",
   "execution_count": 56,
   "metadata": {},
   "outputs": [],
   "source": [
    "#Calculating Lat Long of Station xyz coords:"
   ]
  },
  {
   "cell_type": "code",
   "execution_count": 57,
   "metadata": {},
   "outputs": [],
   "source": [
    "#Creating empty lists for lat/long/height\n",
    "p_Lambda_rad_array = [0]\n",
    "p_long_array = [0]\n",
    "\n",
    "p_Phi_rad_array = [0]\n",
    "p_lat_array = [0]\n",
    "\n",
    "p_r_mag_array = [0]\n",
    "p_h_array = [0]"
   ]
  },
  {
   "cell_type": "code",
   "execution_count": 77,
   "metadata": {},
   "outputs": [
    {
     "name": "stdout",
     "output_type": "stream",
     "text": [
      "Station Longitude: 78.12012299743195\n"
     ]
    }
   ],
   "source": [
    "#Calculating Longitude\n",
    "#Calculating Long in Radians\n",
    "p_Lambda_rad_array = np.arctan2(y_p,x_p) \n",
    "\n",
    "#Converting to degrees\n",
    "p_long_array = p_Lambda_rad_array * (180/np.pi)\n",
    "print ('Station Longitude:',p_long_array) #UNHASH TO CHECK"
   ]
  },
  {
   "cell_type": "code",
   "execution_count": 78,
   "metadata": {},
   "outputs": [
    {
     "name": "stdout",
     "output_type": "stream",
     "text": [
      "Station Latitudes: 43.018086242448426\n"
     ]
    }
   ],
   "source": [
    "#Calculating Latitude\n",
    "#Calculating Lat in Radians\n",
    "p_Phi_rad_array = np.arctan(z_p/(np.sqrt(x_p**2+y_p**2))) \n",
    "\n",
    "#Converting to degrees\n",
    "p_lat_array = p_Phi_rad_array * (180/np.pi)\n",
    "print ('Station Latitudes:',p_lat_array) #UNHASH TO CHECK"
   ]
  },
  {
   "cell_type": "code",
   "execution_count": 84,
   "metadata": {},
   "outputs": [
    {
     "name": "stdout",
     "output_type": "stream",
     "text": [
      "height in metres: 1280.9786671791226\n"
     ]
    }
   ],
   "source": [
    "#Calculating the radius vector magnitude from the centre of the earth to the station\n",
    "\n",
    "p_r_mag_array = np.sqrt((x_p**2)+(y_p**2)+(z_p**2))\n",
    "# Now finding the height of the station above the height of the Earth\n",
    "p_h_array = (p_r_mag_array) - (RE*1000) \n",
    "\n",
    "print('height in metres:',p_h_array)\n"
   ]
  },
  {
   "cell_type": "code",
   "execution_count": 85,
   "metadata": {},
   "outputs": [
    {
     "name": "stdout",
     "output_type": "stream",
     "text": [
      "Station height in metres above the surface of the Earth: 1280.9786671791226\n",
      "Station Latitude: 43.018086242448426\n",
      "Station Longitude: 78.12012299743195\n"
     ]
    }
   ],
   "source": [
    "print('Station height in metres above the surface of the Earth:',p_h_array)\n",
    "print ('Station Latitude:',p_lat_array)\n",
    "print ('Station Longitude:',p_long_array)"
   ]
  },
  {
   "cell_type": "code",
   "execution_count": 86,
   "metadata": {},
   "outputs": [],
   "source": [
    "##### TODO # Calculate ECEF components of (e,n,u) ###\n",
    "### Still missing this but it all works ?"
   ]
  },
  {
   "cell_type": "code",
   "execution_count": 90,
   "metadata": {},
   "outputs": [
    {
     "name": "stdout",
     "output_type": "stream",
     "text": [
      "[ -965640.41259807 -4557711.5803504  -4342010.96482882]\n"
     ]
    }
   ],
   "source": [
    "#Calculating r_ss:The station-satellite vector\n",
    "\n",
    "r_ss = r_s - r_p\n",
    "print(r_ss)"
   ]
  },
  {
   "cell_type": "code",
   "execution_count": 91,
   "metadata": {},
   "outputs": [
    {
     "name": "stdout",
     "output_type": "stream",
     "text": [
      "[-0.15162674 -0.71566076 -0.68179103]\n"
     ]
    }
   ],
   "source": [
    "#Normalizing r_ss\n",
    "r_ss_norm = r_ss / np.linalg.norm(r_ss)\n",
    "print(r_ss_norm)"
   ]
  },
  {
   "cell_type": "code",
   "execution_count": 92,
   "metadata": {},
   "outputs": [
    {
     "name": "stdout",
     "output_type": "stream",
     "text": [
      "-0.7297741542806451\n",
      "-1.212103358983616\n",
      "-0.5903657408237153\n"
     ]
    }
   ],
   "source": [
    "#Projecting r_ss_norm onto e,n,u\n",
    "# This gives the components of r_ss in the topocentric basis\n",
    "\n",
    "r_ss_e = np.dot(r_ss_norm,e)\n",
    "r_ss_n = np.dot(r_ss_norm,n)\n",
    "r_ss_u = np.dot(r_ss_norm,u)\n",
    "\n",
    "print(r_ss_e)\n",
    "print(r_ss_n)\n",
    "print(r_ss_u)"
   ]
  },
  {
   "cell_type": "code",
   "execution_count": 98,
   "metadata": {},
   "outputs": [
    {
     "name": "stdout",
     "output_type": "stream",
     "text": [
      "Elevation angle to the horizon (degrees): -36.182966575382146\n"
     ]
    }
   ],
   "source": [
    "#Let Theta = satellite elevation angle \n",
    "Theta = np.arcsin(r_ss_u)\n",
    "elevation = Theta*(180/np.pi)\n",
    "print('Elevation angle to the horizon (degrees):',elevation)\n",
    "#I think this is in radians ?"
   ]
  },
  {
   "cell_type": "code",
   "execution_count": 104,
   "metadata": {},
   "outputs": [
    {
     "name": "stdout",
     "output_type": "stream",
     "text": [
      "Direction from the north (degrees): -148.94900852900324\n"
     ]
    }
   ],
   "source": [
    "# Let alpha = azimuth (direction from the north)\n",
    "#Defining the site mask angle (alpha)\n",
    "alpha = math.atan2(r_ss_e, r_ss_n)\n",
    "azimuth = alpha*(180/np.pi)\n",
    "print('Direction from the north (degrees):',azimuth)"
   ]
  },
  {
   "cell_type": "code",
   "execution_count": 106,
   "metadata": {},
   "outputs": [],
   "source": [
    "#Let gamma = site mask angle (depends on local geography and equipment)\n",
    "gamma = 13 #just made this up"
   ]
  },
  {
   "cell_type": "code",
   "execution_count": 108,
   "metadata": {},
   "outputs": [
    {
     "name": "stdout",
     "output_type": "stream",
     "text": [
      "the satellite is not visible\n"
     ]
    }
   ],
   "source": [
    "if elevation-gamma > 0:\n",
    "    print ('the satellite is visible')\n",
    "    print ('Direction from the north (degrees):',azimuth)\n",
    "else: print ('the satellite is not visible')"
   ]
  },
  {
   "cell_type": "code",
   "execution_count": null,
   "metadata": {},
   "outputs": [],
   "source": []
  }
 ],
 "metadata": {
  "kernelspec": {
   "display_name": "Python 3",
   "language": "python",
   "name": "python3"
  },
  "language_info": {
   "codemirror_mode": {
    "name": "ipython",
    "version": 3
   },
   "file_extension": ".py",
   "mimetype": "text/x-python",
   "name": "python",
   "nbconvert_exporter": "python",
   "pygments_lexer": "ipython3",
   "version": "3.7.6"
  }
 },
 "nbformat": 4,
 "nbformat_minor": 4
}
